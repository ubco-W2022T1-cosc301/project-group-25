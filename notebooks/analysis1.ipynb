{
 "cells": [
  {
   "cell_type": "markdown",
   "metadata": {},
   "source": [
    "# Samin Intisar"
   ]
  },
  {
   "cell_type": "markdown",
   "metadata": {},
   "source": [
    "## Research question/interests\n",
    "\n",
    "Briefly describe your research question or interests here."
   ]
  },
  {
   "cell_type": "code",
   "execution_count": 2,
   "metadata": {},
   "outputs": [],
   "source": [
    "import pandas as pd\n",
    "import numpy as np\n",
    "import seaborn as sns"
   ]
  },
  {
   "cell_type": "code",
   "execution_count": 3,
   "metadata": {},
   "outputs": [
    {
     "name": "stdout",
     "output_type": "stream",
     "text": [
      "        Rk             Player Nation   Pos          Squad            Comp  \\\n",
      "0        1         Max Aarons    ENG    DF   Norwich City  Premier League   \n",
      "1        2   Yunis Abdelhamid    MAR    DF          Reims         Ligue 1   \n",
      "2        3  Salis Abdul Samed    GHA    MF  Clermont Foot         Ligue 1   \n",
      "3        4    Laurent Abergel    FRA    MF        Lorient         Ligue 1   \n",
      "4        5        Charles Abi    FRA    FW  Saint-Étienne         Ligue 1   \n",
      "...    ...                ...    ...   ...            ...             ...   \n",
      "2916  2917   Martín Zubimendi    ESP    MF  Real Sociedad         La Liga   \n",
      "2917  2918   Szymon ?urkowski    POL    MF         Empoli         Serie A   \n",
      "2918  2919    Martin Ødegaard    NOR    MF        Arsenal  Premier League   \n",
      "2919  2920        Milan ?uri?    BIH    FW    Salernitana         Serie A   \n",
      "2920  2921      Filip ?uri?i?    SRB  MFFW       Sassuolo         Serie A   \n",
      "\n",
      "       Age  Born  MP  Starts  ...   Off   Crs  TklW  PKwon  PKcon    OG  \\\n",
      "0     22.0  2000  34      32  ...  0.03  1.41  1.16   0.00   0.06  0.03   \n",
      "1     34.0  1987  34      34  ...  0.00  0.06  1.39   0.00   0.03  0.00   \n",
      "2     22.0  2000  31      29  ...  0.00  0.36  1.24   0.00   0.00  0.00   \n",
      "3     29.0  1993  34      34  ...  0.03  0.79  2.23   0.00   0.00  0.00   \n",
      "4     22.0  2000   1       1  ...  0.00  2.00  0.00   0.00   0.00  0.00   \n",
      "...    ...   ...  ..     ...  ...   ...   ...   ...    ...    ...   ...   \n",
      "2916  23.0  1999  36      26  ...  0.10  0.10  1.08   0.00   0.00  0.00   \n",
      "2917  24.0  1997  35      29  ...  0.00  0.74  1.91   0.00   0.04  0.00   \n",
      "2918  23.0  1998  36      32  ...  0.10  0.84  0.81   0.00   0.06  0.00   \n",
      "2919  32.0  1990  33      23  ...  0.25  0.29  0.17   0.04   0.00  0.00   \n",
      "2920  30.0  1992  12       9  ...  0.27  0.00  0.93   0.00   0.00  0.00   \n",
      "\n",
      "      Recov  AerWon  AerLost  AerWon%  \n",
      "0      5.53    0.47     1.59     22.7  \n",
      "1      6.77    2.02     1.36     59.8  \n",
      "2      8.76    0.88     0.88     50.0  \n",
      "3      8.87    0.43     0.43     50.0  \n",
      "4      4.00    2.00     0.00    100.0  \n",
      "...     ...     ...      ...      ...  \n",
      "2916   9.41    2.64     1.42     65.0  \n",
      "2917   8.05    1.02     1.56     39.4  \n",
      "2918   7.44    0.55     0.81     40.5  \n",
      "2919   3.24   12.40     4.81     72.0  \n",
      "2920   4.67    0.40     0.67     37.5  \n",
      "\n",
      "[2921 rows x 143 columns]\n"
     ]
    }
   ],
   "source": [
    "df = pd.read_csv(\"../data/raw/Stats.csv\", encoding=\"ISO-8859-1\", delimiter = \";\")\n",
    "\n",
    "print(df)"
   ]
  },
  {
   "cell_type": "code",
   "execution_count": 4,
   "metadata": {},
   "outputs": [
    {
     "data": {
      "text/plain": [
       "Index(['Rk', 'Player', 'Nation', 'Pos', 'Squad', 'Comp', 'Age', 'Born', 'MP',\n",
       "       'Starts',\n",
       "       ...\n",
       "       'Off', 'Crs', 'TklW', 'PKwon', 'PKcon', 'OG', 'Recov', 'AerWon',\n",
       "       'AerLost', 'AerWon%'],\n",
       "      dtype='object', length=143)"
      ]
     },
     "execution_count": 4,
     "metadata": {},
     "output_type": "execute_result"
    }
   ],
   "source": [
    "df.columns"
   ]
  },
  {
   "cell_type": "code",
   "execution_count": 12,
   "metadata": {},
   "outputs": [
    {
     "name": "stdout",
     "output_type": "stream",
     "text": [
      "419\n",
      "598\n",
      "942\n"
     ]
    }
   ],
   "source": [
    "forwards = df[df[\"Pos\"] == \"FW\"]\n",
    "midfielders = df[df[\"Pos\"] == \"MF\"]\n",
    "defenders = df[df[\"Pos\"] == \"DF\"]\n",
    "\n",
    "print(forwards.shape[0])\n",
    "print(midfielders.shape[0])\n",
    "print(defenders.shape[0])"
   ]
  },
  {
   "cell_type": "code",
   "execution_count": 7,
   "metadata": {},
   "outputs": [
    {
     "data": {
      "text/plain": [
       "<AxesSubplot:>"
      ]
     },
     "execution_count": 7,
     "metadata": {},
     "output_type": "execute_result"
    },
    {
     "data": {
      "image/png": "[encoded data removed]",
      "text/plain": [
       "<Figure size 640x480 with 2 Axes>"
      ]
     },
     "metadata": {},
     "output_type": "display_data"
    }
   ],
   "source": [
    "corelation = forwards.corr()\n",
    "\n",
    "sns.heatmap(corelation,\n",
    "            xticklabels= corelation.columns,\n",
    "            yticklabels= corelation.columns,\n",
    "            annot = True)"
   ]
  }
 ],
 "metadata": {
  "kernelspec": {
   "display_name": "Python 3.9.13 ('base')",
   "language": "python",
   "name": "python3"
  },
  "language_info": {
   "codemirror_mode": {
    "name": "ipython",
    "version": 3
   },
   "file_extension": ".py",
   "mimetype": "text/x-python",
   "name": "python",
   "nbconvert_exporter": "python",
   "pygments_lexer": "ipython3",
   "version": "3.9.13"
  },
  "vscode": {
   "interpreter": {
    "hash": "469172294031c43dd15525362717bf7080fe5b8ed82c9898b2065b33b35d2b1e"
   }
  }
 },
 "nbformat": 4,
 "nbformat_minor": 4
}
