{
 "cells": [
  {
   "cell_type": "markdown",
   "metadata": {},
   "source": [
    "#### Ritvik Khurana"
   ]
  },
  {
   "cell_type": "markdown",
   "metadata": {},
   "source": [
    "# Research question/interests\n",
    "\n",
    "RQ : Using this dataset to find the prime age of playing for this dataset and comparing it to top players in their prime."
   ]
  },
  {
   "cell_type": "code",
   "execution_count": 10,
   "metadata": {},
   "outputs": [],
   "source": [
    "import pandas as pd\n",
    "import seaborn as sns\n",
    "import traceback\n",
    "import matplotlib.pyplot as plt\n",
    "import numpy as np\n",
    "import squarify"
   ]
  },
  {
   "cell_type": "code",
   "execution_count": 11,
   "metadata": {},
   "outputs": [],
   "source": [
    "df = pd.read_csv(\"../data/raw/Stats.csv\",encoding=\"ISO-8859-1\", delimiter = \";\").set_index('Rk')\n",
    "sns.set(rc={'figure.figsize':(11.7,8.27)})"
   ]
  },
  {
   "cell_type": "code",
   "execution_count": 12,
   "metadata": {},
   "outputs": [
    {
     "data": {
      "text/html": [
       "<div>\n",
       "<style scoped>\n",
       "    .dataframe tbody tr th:only-of-type {\n",
       "        vertical-align: middle;\n",
       "    }\n",
       "\n",
       "    .dataframe tbody tr th {\n",
       "        vertical-align: top;\n",
       "    }\n",
       "\n",
       "    .dataframe thead th {\n",
       "        text-align: right;\n",
       "    }\n",
       "</style>\n",
       "<table border=\"1\" class=\"dataframe\">\n",
       "  <thead>\n",
       "    <tr style=\"text-align: right;\">\n",
       "      <th></th>\n",
       "      <th>Player</th>\n",
       "      <th>Nation</th>\n",
       "      <th>Pos</th>\n",
       "      <th>Squad</th>\n",
       "      <th>Comp</th>\n",
       "      <th>Age</th>\n",
       "      <th>Born</th>\n",
       "      <th>MP</th>\n",
       "      <th>Starts</th>\n",
       "      <th>Min</th>\n",
       "      <th>...</th>\n",
       "      <th>Off</th>\n",
       "      <th>Crs</th>\n",
       "      <th>TklW</th>\n",
       "      <th>PKwon</th>\n",
       "      <th>PKcon</th>\n",
       "      <th>OG</th>\n",
       "      <th>Recov</th>\n",
       "      <th>AerWon</th>\n",
       "      <th>AerLost</th>\n",
       "      <th>AerWon%</th>\n",
       "    </tr>\n",
       "    <tr>\n",
       "      <th>Rk</th>\n",
       "      <th></th>\n",
       "      <th></th>\n",
       "      <th></th>\n",
       "      <th></th>\n",
       "      <th></th>\n",
       "      <th></th>\n",
       "      <th></th>\n",
       "      <th></th>\n",
       "      <th></th>\n",
       "      <th></th>\n",
       "      <th></th>\n",
       "      <th></th>\n",
       "      <th></th>\n",
       "      <th></th>\n",
       "      <th></th>\n",
       "      <th></th>\n",
       "      <th></th>\n",
       "      <th></th>\n",
       "      <th></th>\n",
       "      <th></th>\n",
       "      <th></th>\n",
       "    </tr>\n",
       "  </thead>\n",
       "  <tbody>\n",
       "    <tr>\n",
       "      <th>1</th>\n",
       "      <td>Max Aarons</td>\n",
       "      <td>ENG</td>\n",
       "      <td>DF</td>\n",
       "      <td>Norwich City</td>\n",
       "      <td>Premier League</td>\n",
       "      <td>22.0</td>\n",
       "      <td>2000</td>\n",
       "      <td>34</td>\n",
       "      <td>32</td>\n",
       "      <td>2881</td>\n",
       "      <td>...</td>\n",
       "      <td>0.03</td>\n",
       "      <td>1.41</td>\n",
       "      <td>1.16</td>\n",
       "      <td>0.0</td>\n",
       "      <td>0.06</td>\n",
       "      <td>0.03</td>\n",
       "      <td>5.53</td>\n",
       "      <td>0.47</td>\n",
       "      <td>1.59</td>\n",
       "      <td>22.7</td>\n",
       "    </tr>\n",
       "    <tr>\n",
       "      <th>2</th>\n",
       "      <td>Yunis Abdelhamid</td>\n",
       "      <td>MAR</td>\n",
       "      <td>DF</td>\n",
       "      <td>Reims</td>\n",
       "      <td>Ligue 1</td>\n",
       "      <td>34.0</td>\n",
       "      <td>1987</td>\n",
       "      <td>34</td>\n",
       "      <td>34</td>\n",
       "      <td>2983</td>\n",
       "      <td>...</td>\n",
       "      <td>0.00</td>\n",
       "      <td>0.06</td>\n",
       "      <td>1.39</td>\n",
       "      <td>0.0</td>\n",
       "      <td>0.03</td>\n",
       "      <td>0.00</td>\n",
       "      <td>6.77</td>\n",
       "      <td>2.02</td>\n",
       "      <td>1.36</td>\n",
       "      <td>59.8</td>\n",
       "    </tr>\n",
       "    <tr>\n",
       "      <th>3</th>\n",
       "      <td>Salis Abdul Samed</td>\n",
       "      <td>GHA</td>\n",
       "      <td>MF</td>\n",
       "      <td>Clermont Foot</td>\n",
       "      <td>Ligue 1</td>\n",
       "      <td>22.0</td>\n",
       "      <td>2000</td>\n",
       "      <td>31</td>\n",
       "      <td>29</td>\n",
       "      <td>2462</td>\n",
       "      <td>...</td>\n",
       "      <td>0.00</td>\n",
       "      <td>0.36</td>\n",
       "      <td>1.24</td>\n",
       "      <td>0.0</td>\n",
       "      <td>0.00</td>\n",
       "      <td>0.00</td>\n",
       "      <td>8.76</td>\n",
       "      <td>0.88</td>\n",
       "      <td>0.88</td>\n",
       "      <td>50.0</td>\n",
       "    </tr>\n",
       "    <tr>\n",
       "      <th>4</th>\n",
       "      <td>Laurent Abergel</td>\n",
       "      <td>FRA</td>\n",
       "      <td>MF</td>\n",
       "      <td>Lorient</td>\n",
       "      <td>Ligue 1</td>\n",
       "      <td>29.0</td>\n",
       "      <td>1993</td>\n",
       "      <td>34</td>\n",
       "      <td>34</td>\n",
       "      <td>2956</td>\n",
       "      <td>...</td>\n",
       "      <td>0.03</td>\n",
       "      <td>0.79</td>\n",
       "      <td>2.23</td>\n",
       "      <td>0.0</td>\n",
       "      <td>0.00</td>\n",
       "      <td>0.00</td>\n",
       "      <td>8.87</td>\n",
       "      <td>0.43</td>\n",
       "      <td>0.43</td>\n",
       "      <td>50.0</td>\n",
       "    </tr>\n",
       "    <tr>\n",
       "      <th>5</th>\n",
       "      <td>Charles Abi</td>\n",
       "      <td>FRA</td>\n",
       "      <td>FW</td>\n",
       "      <td>Saint-Étienne</td>\n",
       "      <td>Ligue 1</td>\n",
       "      <td>22.0</td>\n",
       "      <td>2000</td>\n",
       "      <td>1</td>\n",
       "      <td>1</td>\n",
       "      <td>45</td>\n",
       "      <td>...</td>\n",
       "      <td>0.00</td>\n",
       "      <td>2.00</td>\n",
       "      <td>0.00</td>\n",
       "      <td>0.0</td>\n",
       "      <td>0.00</td>\n",
       "      <td>0.00</td>\n",
       "      <td>4.00</td>\n",
       "      <td>2.00</td>\n",
       "      <td>0.00</td>\n",
       "      <td>100.0</td>\n",
       "    </tr>\n",
       "  </tbody>\n",
       "</table>\n",
       "<p>5 rows × 142 columns</p>\n",
       "</div>"
      ],
      "text/plain": [
       "               Player Nation Pos          Squad            Comp   Age  Born  \\\n",
       "Rk                                                                            \n",
       "1          Max Aarons    ENG  DF   Norwich City  Premier League  22.0  2000   \n",
       "2    Yunis Abdelhamid    MAR  DF          Reims         Ligue 1  34.0  1987   \n",
       "3   Salis Abdul Samed    GHA  MF  Clermont Foot         Ligue 1  22.0  2000   \n",
       "4     Laurent Abergel    FRA  MF        Lorient         Ligue 1  29.0  1993   \n",
       "5         Charles Abi    FRA  FW  Saint-Étienne         Ligue 1  22.0  2000   \n",
       "\n",
       "    MP  Starts   Min  ...   Off   Crs  TklW  PKwon  PKcon    OG  Recov  \\\n",
       "Rk                    ...                                                \n",
       "1   34      32  2881  ...  0.03  1.41  1.16    0.0   0.06  0.03   5.53   \n",
       "2   34      34  2983  ...  0.00  0.06  1.39    0.0   0.03  0.00   6.77   \n",
       "3   31      29  2462  ...  0.00  0.36  1.24    0.0   0.00  0.00   8.76   \n",
       "4   34      34  2956  ...  0.03  0.79  2.23    0.0   0.00  0.00   8.87   \n",
       "5    1       1    45  ...  0.00  2.00  0.00    0.0   0.00  0.00   4.00   \n",
       "\n",
       "    AerWon  AerLost  AerWon%  \n",
       "Rk                            \n",
       "1     0.47     1.59     22.7  \n",
       "2     2.02     1.36     59.8  \n",
       "3     0.88     0.88     50.0  \n",
       "4     0.43     0.43     50.0  \n",
       "5     2.00     0.00    100.0  \n",
       "\n",
       "[5 rows x 142 columns]"
      ]
     },
     "execution_count": 12,
     "metadata": {},
     "output_type": "execute_result"
    }
   ],
   "source": [
    "df.head()"
   ]
  },
  {
   "cell_type": "markdown",
   "metadata": {},
   "source": [
    "## Milestone 3 Task 1 - EDA\n",
    "\n",
    "\n",
    "There are a multitude of factors which contribute towards calculating a player's performance. Therefore in order\n",
    "to identify the players in their prime and exclude outliers we need to take each of these factors in to account and\n",
    "compile players who fit in most, if not all the factors' ranges. \n",
    "\n",
    "We also need to filter and create dataframes with players in different positions\n",
    "\n",
    "### In order to find the prime ages for each playing position we will first need to identify columns that may come in handy \n",
    "\n",
    "1. Defenders\n",
    "    - Short pass Accuracy (PasShoCmp%)\n",
    "    - Long pass Accuracy (PasLonCmp%)\n",
    "    - Tackles Won (TklWon)\n",
    "2. Goalies\n",
    "    - Long pass Accuracy (PasLonCmp%)\n",
    "3. Attackers\n",
    "    - Shots on target (SoT)\n",
    "    - Shot Accuracy (G/SoT)\n",
    "    - Assists (Assists)\n",
    "    - Goal-creating actions (GCA)\n",
    "4. Midfielders\n",
    "    - Assists (Assis)\n",
    "    - Goal-creating actions (GCA)\n",
    "5. Factors affecting all positions\n",
    "    - Pass Accuracy (PasShoCmp% + PasMedCmp% + PasLonCmp% / 3)\n",
    "    - Red cards (CrdR)\n",
    "    - Yellow cards (2CrdY)"
   ]
  },
  {
   "cell_type": "code",
   "execution_count": 13,
   "metadata": {},
   "outputs": [],
   "source": [
    "df.head()\n",
    "\n",
    "def_fac = [\"PasShoCmp%\", \"PasLonCmp%\", \"TklWon\"]\n",
    "goal_fac = [\"PasLonCmp%\"]\n",
    "atk_fac = [\"SoT\", \"G/SoT\", \"Assists\",\"GCA\"]\n",
    "mid_fac = [\"Assists\",\"GCA\"]\n",
    "\n",
    "df[\"pass_accuracy\"] = (df[\"PasShoCmp%\"] + df[\"PasMedCmp%\"] + df[\"PasLonCmp%\"])/3\n",
    "\n",
    "all_fac = [\"pass_accuracy\",\"CrdR\",\"2CrdY\"]"
   ]
  },
  {
   "cell_type": "code",
   "execution_count": 14,
   "metadata": {},
   "outputs": [],
   "source": [
    "all_columns = list(df.columns)"
   ]
  },
  {
   "cell_type": "code",
   "execution_count": 15,
   "metadata": {},
   "outputs": [
    {
     "data": {
      "text/html": [
       "<div>\n",
       "<style scoped>\n",
       "    .dataframe tbody tr th:only-of-type {\n",
       "        vertical-align: middle;\n",
       "    }\n",
       "\n",
       "    .dataframe tbody tr th {\n",
       "        vertical-align: top;\n",
       "    }\n",
       "\n",
       "    .dataframe thead th {\n",
       "        text-align: right;\n",
       "    }\n",
       "</style>\n",
       "<table border=\"1\" class=\"dataframe\">\n",
       "  <thead>\n",
       "    <tr style=\"text-align: right;\">\n",
       "      <th></th>\n",
       "      <th>Age</th>\n",
       "      <th>Born</th>\n",
       "      <th>MP</th>\n",
       "      <th>Starts</th>\n",
       "      <th>Min</th>\n",
       "      <th>90s</th>\n",
       "      <th>Goals</th>\n",
       "      <th>Shots</th>\n",
       "      <th>SoT</th>\n",
       "      <th>SoT%</th>\n",
       "      <th>...</th>\n",
       "      <th>Crs</th>\n",
       "      <th>TklW</th>\n",
       "      <th>PKwon</th>\n",
       "      <th>PKcon</th>\n",
       "      <th>OG</th>\n",
       "      <th>Recov</th>\n",
       "      <th>AerWon</th>\n",
       "      <th>AerLost</th>\n",
       "      <th>AerWon%</th>\n",
       "      <th>pass_accuracy</th>\n",
       "    </tr>\n",
       "  </thead>\n",
       "  <tbody>\n",
       "    <tr>\n",
       "      <th>count</th>\n",
       "      <td>2920.000000</td>\n",
       "      <td>2921.000000</td>\n",
       "      <td>2921.000000</td>\n",
       "      <td>2921.000000</td>\n",
       "      <td>2921.000000</td>\n",
       "      <td>2921.000000</td>\n",
       "      <td>2921.000000</td>\n",
       "      <td>2921.000000</td>\n",
       "      <td>2921.000000</td>\n",
       "      <td>2921.000000</td>\n",
       "      <td>...</td>\n",
       "      <td>2921.000000</td>\n",
       "      <td>2921.000000</td>\n",
       "      <td>2921.00000</td>\n",
       "      <td>2921.000000</td>\n",
       "      <td>2921.000000</td>\n",
       "      <td>2921.000000</td>\n",
       "      <td>2921.000000</td>\n",
       "      <td>2921.000000</td>\n",
       "      <td>2921.000000</td>\n",
       "      <td>2921.000000</td>\n",
       "    </tr>\n",
       "    <tr>\n",
       "      <th>mean</th>\n",
       "      <td>26.092123</td>\n",
       "      <td>1994.725094</td>\n",
       "      <td>18.800068</td>\n",
       "      <td>13.749743</td>\n",
       "      <td>1234.756248</td>\n",
       "      <td>13.719069</td>\n",
       "      <td>0.111274</td>\n",
       "      <td>1.220431</td>\n",
       "      <td>0.391462</td>\n",
       "      <td>23.618179</td>\n",
       "      <td>...</td>\n",
       "      <td>1.063708</td>\n",
       "      <td>1.026689</td>\n",
       "      <td>0.01519</td>\n",
       "      <td>0.013050</td>\n",
       "      <td>0.003451</td>\n",
       "      <td>7.410294</td>\n",
       "      <td>1.664286</td>\n",
       "      <td>1.858305</td>\n",
       "      <td>40.485861</td>\n",
       "      <td>73.701575</td>\n",
       "    </tr>\n",
       "    <tr>\n",
       "      <th>std</th>\n",
       "      <td>4.641746</td>\n",
       "      <td>37.210426</td>\n",
       "      <td>11.619882</td>\n",
       "      <td>11.393763</td>\n",
       "      <td>977.941288</td>\n",
       "      <td>10.865255</td>\n",
       "      <td>0.233688</td>\n",
       "      <td>1.511266</td>\n",
       "      <td>0.784754</td>\n",
       "      <td>21.355425</td>\n",
       "      <td>...</td>\n",
       "      <td>1.341177</td>\n",
       "      <td>1.028466</td>\n",
       "      <td>0.21167</td>\n",
       "      <td>0.052864</td>\n",
       "      <td>0.020306</td>\n",
       "      <td>3.650554</td>\n",
       "      <td>1.938046</td>\n",
       "      <td>2.245096</td>\n",
       "      <td>24.297290</td>\n",
       "      <td>14.281701</td>\n",
       "    </tr>\n",
       "    <tr>\n",
       "      <th>min</th>\n",
       "      <td>16.000000</td>\n",
       "      <td>0.000000</td>\n",
       "      <td>1.000000</td>\n",
       "      <td>0.000000</td>\n",
       "      <td>1.000000</td>\n",
       "      <td>0.000000</td>\n",
       "      <td>0.000000</td>\n",
       "      <td>0.000000</td>\n",
       "      <td>0.000000</td>\n",
       "      <td>0.000000</td>\n",
       "      <td>...</td>\n",
       "      <td>0.000000</td>\n",
       "      <td>0.000000</td>\n",
       "      <td>0.00000</td>\n",
       "      <td>0.000000</td>\n",
       "      <td>0.000000</td>\n",
       "      <td>0.000000</td>\n",
       "      <td>0.000000</td>\n",
       "      <td>0.000000</td>\n",
       "      <td>0.000000</td>\n",
       "      <td>0.000000</td>\n",
       "    </tr>\n",
       "    <tr>\n",
       "      <th>25%</th>\n",
       "      <td>23.000000</td>\n",
       "      <td>1992.000000</td>\n",
       "      <td>8.000000</td>\n",
       "      <td>3.000000</td>\n",
       "      <td>307.000000</td>\n",
       "      <td>3.400000</td>\n",
       "      <td>0.000000</td>\n",
       "      <td>0.280000</td>\n",
       "      <td>0.000000</td>\n",
       "      <td>0.000000</td>\n",
       "      <td>...</td>\n",
       "      <td>0.000000</td>\n",
       "      <td>0.430000</td>\n",
       "      <td>0.00000</td>\n",
       "      <td>0.000000</td>\n",
       "      <td>0.000000</td>\n",
       "      <td>5.070000</td>\n",
       "      <td>0.520000</td>\n",
       "      <td>0.840000</td>\n",
       "      <td>26.200000</td>\n",
       "      <td>68.700000</td>\n",
       "    </tr>\n",
       "    <tr>\n",
       "      <th>50%</th>\n",
       "      <td>26.000000</td>\n",
       "      <td>1996.000000</td>\n",
       "      <td>20.000000</td>\n",
       "      <td>12.000000</td>\n",
       "      <td>1102.000000</td>\n",
       "      <td>12.200000</td>\n",
       "      <td>0.000000</td>\n",
       "      <td>0.820000</td>\n",
       "      <td>0.190000</td>\n",
       "      <td>25.000000</td>\n",
       "      <td>...</td>\n",
       "      <td>0.590000</td>\n",
       "      <td>0.920000</td>\n",
       "      <td>0.00000</td>\n",
       "      <td>0.000000</td>\n",
       "      <td>0.000000</td>\n",
       "      <td>7.380000</td>\n",
       "      <td>1.230000</td>\n",
       "      <td>1.390000</td>\n",
       "      <td>43.500000</td>\n",
       "      <td>76.066667</td>\n",
       "    </tr>\n",
       "    <tr>\n",
       "      <th>75%</th>\n",
       "      <td>29.000000</td>\n",
       "      <td>1999.000000</td>\n",
       "      <td>29.000000</td>\n",
       "      <td>23.000000</td>\n",
       "      <td>2025.000000</td>\n",
       "      <td>22.500000</td>\n",
       "      <td>0.150000</td>\n",
       "      <td>1.830000</td>\n",
       "      <td>0.560000</td>\n",
       "      <td>36.700000</td>\n",
       "      <td>...</td>\n",
       "      <td>1.700000</td>\n",
       "      <td>1.410000</td>\n",
       "      <td>0.00000</td>\n",
       "      <td>0.000000</td>\n",
       "      <td>0.000000</td>\n",
       "      <td>9.380000</td>\n",
       "      <td>2.270000</td>\n",
       "      <td>2.210000</td>\n",
       "      <td>57.100000</td>\n",
       "      <td>82.533333</td>\n",
       "    </tr>\n",
       "    <tr>\n",
       "      <th>max</th>\n",
       "      <td>41.000000</td>\n",
       "      <td>2006.000000</td>\n",
       "      <td>38.000000</td>\n",
       "      <td>38.000000</td>\n",
       "      <td>3420.000000</td>\n",
       "      <td>38.000000</td>\n",
       "      <td>5.000000</td>\n",
       "      <td>20.000000</td>\n",
       "      <td>20.000000</td>\n",
       "      <td>100.000000</td>\n",
       "      <td>...</td>\n",
       "      <td>15.000000</td>\n",
       "      <td>10.000000</td>\n",
       "      <td>10.00000</td>\n",
       "      <td>1.430000</td>\n",
       "      <td>0.500000</td>\n",
       "      <td>40.000000</td>\n",
       "      <td>30.000000</td>\n",
       "      <td>40.000000</td>\n",
       "      <td>100.000000</td>\n",
       "      <td>100.000000</td>\n",
       "    </tr>\n",
       "  </tbody>\n",
       "</table>\n",
       "<p>8 rows × 138 columns</p>\n",
       "</div>"
      ],
      "text/plain": [
       "               Age         Born           MP       Starts          Min  \\\n",
       "count  2920.000000  2921.000000  2921.000000  2921.000000  2921.000000   \n",
       "mean     26.092123  1994.725094    18.800068    13.749743  1234.756248   \n",
       "std       4.641746    37.210426    11.619882    11.393763   977.941288   \n",
       "min      16.000000     0.000000     1.000000     0.000000     1.000000   \n",
       "25%      23.000000  1992.000000     8.000000     3.000000   307.000000   \n",
       "50%      26.000000  1996.000000    20.000000    12.000000  1102.000000   \n",
       "75%      29.000000  1999.000000    29.000000    23.000000  2025.000000   \n",
       "max      41.000000  2006.000000    38.000000    38.000000  3420.000000   \n",
       "\n",
       "               90s        Goals        Shots          SoT         SoT%  ...  \\\n",
       "count  2921.000000  2921.000000  2921.000000  2921.000000  2921.000000  ...   \n",
       "mean     13.719069     0.111274     1.220431     0.391462    23.618179  ...   \n",
       "std      10.865255     0.233688     1.511266     0.784754    21.355425  ...   \n",
       "min       0.000000     0.000000     0.000000     0.000000     0.000000  ...   \n",
       "25%       3.400000     0.000000     0.280000     0.000000     0.000000  ...   \n",
       "50%      12.200000     0.000000     0.820000     0.190000    25.000000  ...   \n",
       "75%      22.500000     0.150000     1.830000     0.560000    36.700000  ...   \n",
       "max      38.000000     5.000000    20.000000    20.000000   100.000000  ...   \n",
       "\n",
       "               Crs         TklW       PKwon        PKcon           OG  \\\n",
       "count  2921.000000  2921.000000  2921.00000  2921.000000  2921.000000   \n",
       "mean      1.063708     1.026689     0.01519     0.013050     0.003451   \n",
       "std       1.341177     1.028466     0.21167     0.052864     0.020306   \n",
       "min       0.000000     0.000000     0.00000     0.000000     0.000000   \n",
       "25%       0.000000     0.430000     0.00000     0.000000     0.000000   \n",
       "50%       0.590000     0.920000     0.00000     0.000000     0.000000   \n",
       "75%       1.700000     1.410000     0.00000     0.000000     0.000000   \n",
       "max      15.000000    10.000000    10.00000     1.430000     0.500000   \n",
       "\n",
       "             Recov       AerWon      AerLost      AerWon%  pass_accuracy  \n",
       "count  2921.000000  2921.000000  2921.000000  2921.000000    2921.000000  \n",
       "mean      7.410294     1.664286     1.858305    40.485861      73.701575  \n",
       "std       3.650554     1.938046     2.245096    24.297290      14.281701  \n",
       "min       0.000000     0.000000     0.000000     0.000000       0.000000  \n",
       "25%       5.070000     0.520000     0.840000    26.200000      68.700000  \n",
       "50%       7.380000     1.230000     1.390000    43.500000      76.066667  \n",
       "75%       9.380000     2.270000     2.210000    57.100000      82.533333  \n",
       "max      40.000000    30.000000    40.000000   100.000000     100.000000  \n",
       "\n",
       "[8 rows x 138 columns]"
      ]
     },
     "execution_count": 15,
     "metadata": {},
     "output_type": "execute_result"
    }
   ],
   "source": [
    "df.describe()"
   ]
  },
  {
   "cell_type": "code",
   "execution_count": 16,
   "metadata": {},
   "outputs": [
    {
     "data": {
      "text/plain": [
       "Player           2786\n",
       "Nation            102\n",
       "Pos                11\n",
       "Squad              98\n",
       "Comp                5\n",
       "                 ... \n",
       "Recov             757\n",
       "AerWon            483\n",
       "AerLost           477\n",
       "AerWon%           520\n",
       "pass_accuracy    1261\n",
       "Length: 143, dtype: int64"
      ]
     },
     "execution_count": 16,
     "metadata": {},
     "output_type": "execute_result"
    }
   ],
   "source": [
    "df.nunique()"
   ]
  },
  {
   "cell_type": "code",
   "execution_count": 18,
   "metadata": {},
   "outputs": [
    {
     "data": {
      "text/plain": [
       "[Text(0.5, 1.0, 'Minutes Played Vs Age')]"
      ]
     },
     "execution_count": 18,
     "metadata": {},
     "output_type": "execute_result"
    },
    {
     "data": {
      "image/png": "[encoded data removed]",
      "text/plain": [
       "<Figure size 842.4x595.44 with 1 Axes>"
      ]
     },
     "metadata": {},
     "output_type": "display_data"
    }
   ],
   "source": [
    "sns.boxplot(data = df,x = \"Age\",y = \"Min\",showfliers = False).set(title='Minutes Played Vs Age')\n"
   ]
  },
  {
   "cell_type": "markdown",
   "metadata": {},
   "source": [
    "This graph shows us that most of the experienced players lie above the age of 22, as the box range significantly increases at that age compared to younger ages. However, we would expect that after a certain age the graph should start to dib back down. This does happen a little bit after the ages 29 and 30 but we don't see as much of a significant change as we did before. Moreover, as the ages increase beyond 30 we should see more dips in the graph, but, instead we see some increases at age 34 and 37. I believe this is due to some exceptional players bringing up the box for other players."
   ]
  },
  {
   "cell_type": "markdown",
   "metadata": {},
   "source": [
    "## Milestone 3 Task 2 - Analysis Pipeline\n",
    "\n",
    "1. Loading the data - In order to be able to load our data into out analysis we need to validate the data file \n",
    "    - Origin file is a \".csv\" filetype with the delimiter of \";\"\n",
    "    - Origin file supports the \"ISO-8859-1\" encoding \n",
    "2. Preprocessing the data - To make our workflow more efficient we can drop unnessary columns that doesn't relate to our analysis \n",
    "*Note: Columns can be added or removed as we move forward with the analysis, so this section may change*\n",
    "\n",
    "| Dropped Column | Description | Reason |\n",
    "| -------------- | ----------- | ------ |\n",
    "| Born | Year of birth | Our dataset already includes the ages of the places, therefore, making this column redundant|\n",
    "|PPA| Completed passes into the 18-yard box | Irrelavent to Analysis        |\n",
    "|CrsPA| Completed crosses into the 18-yard box | Irrelavent to Analysis        |\n",
    "| CkIn | Inswinging corner kicks | Irrelavent to Analysis |\n",
    "| CkOut | Outswinging corner kicks | Irrelavent to Analysis |\n",
    "| CkStr | Straight corner kicks | Irrelavent to Analysis |\n",
    "| OG | Own goals | Own goals can be biased, but it depends on the situvation, since we can't factor that into consideration, I believe I shouldn't include it |\n",
    "\n",
    "3. Data cleansing - We also need to clean our data so its readable and doens't include any anomalies that may affect our code.\n",
    "    - changing NAN values to the default datatype value (blank string if the column datatype is String, 0 if its int, etc.)\n",
    "    - Identify false/incorrect data and adjust accordingly\n",
    "    - Dropping columns with 10% or more missing data, to provide a fair analysis\n",
    "\n",
    "\n",
    "4. Processing Data - In this step, we manipulate the data to find/create data thats suitable and supportive of our upcoming analysis\n",
    "    - Creating supporting columns for out analysis\n",
    "    | Column name | Description |\n",
    "    | ----------- | ----------- |\n",
    "    | Average Playtime | Minutes Played/Games Played , In this column we are using 2 pre-existing columns to create a column that contains the average playtime for each player |\n",
    "    | *Example Name* | *Example Description* |\n",
    "    - Replacing outlier values with the average of the column exluding the outliers\n",
    "   "
   ]
  },
  {
   "cell_type": "markdown",
   "metadata": {},
   "source": [
    "## Milestone 3 v2.0 - Analysis to answer the research question\n",
    "\n",
    "### Weightage for each position\n",
    "\n",
    "**The number in the backets for each factor refer to the weightage given to that factor in the analysis**\n",
    "\n",
    "- FW:Forward : \n",
    "    - Goals(50%)\n",
    "    - GCA: Goal Creating Actions(25%)\n",
    "    - SoT: Shots on Target(25%)\n",
    "- MF:Midfielder : \n",
    "    - PasTotCmp: Pass Total Completion(32%)\n",
    "    - DriSucc: Dribbles Sucess(40%)\n",
    "    - Assists (28%)\n",
    "- DF:Defender : \n",
    "    - Tkl: Tackles(~31.5%)\n",
    "    - Int: Interceptions(~37%)\n",
    "    - Blocks(~31.5%)"
   ]
  },
  {
   "cell_type": "code",
   "execution_count": 20,
   "metadata": {},
   "outputs": [],
   "source": [
    "# agedata = []\n",
    "\n",
    "# for each in range(22,32):\n",
    "#     agedata.append(df[df[\"Age\"]==eac   \n",
    "    \n",
    "dff = df[df[\"Age\"]>=22]\n",
    "dff = dff[dff[\"Age\"]<=32]\n",
    "\n",
    "# \"Goals\", \"PasTotCmp\", \"Tkl\", \"Assists\", \"DriSucc\"\n",
    "# (/1.08*100) , (/96.1*100), (/5.88*100), (/0.83*100), (/5.58*100)\n",
    "\n",
    "\n",
    "# Att : Goals, GCA, SoT\n",
    "# Mid : PasTotCmp, DriSucc, Assists\n",
    "# Def : Tkl, Int, Blocks\n",
    "\n",
    "sns.set(rc={'figure.figsize':(11.7,8.27)})\n",
    "dff = dff.drop(dff[dff.Min < 300].index)\n",
    "\n",
    "Weighted_Score = 0.5*(dff[\"Goals\"]/1.04)*100 + 0.25*(df[\"GCA\"]/1.13)*100 + 0.25*(df[\"SoT\"]/2.22)*100\n",
    "dff[\"Weighted_Score\"] = Weighted_Score\n",
    "Atk = dff[dff[\"Pos\"].str.contains(\"FW\")]\n",
    "\n",
    "\n",
    "Weighted_Score = 0.32*(dff[\"PasTotCmp\"]/96.1)*100 + 0.4*(df[\"DriSucc\"]/5.13)*100 + 0.28*(df[\"Assists\"]/0.83)*100\n",
    "dff[\"Weighted_Score\"] = Weighted_Score\n",
    "Mid = dff[dff[\"Pos\"].str.contains(\"MF\")]\n",
    "\n",
    "\n",
    "Weighted_Score = 0.3*(dff[\"Tkl\"]/5.88)*100 + 0.35*(df[\"Int\"]/5.22)*100 + 0.3*(df[\"Blocks\"]/4.5)*100\n",
    "dff[\"Weighted_Score\"] = Weighted_Score\n",
    "Def = dff[dff[\"Pos\"].str.contains(\"DF\")]\n",
    "\n",
    "# Weighted_Score = 0.3*(df[\"Goals\"]/1.08)*100 + 0.2*(df[\"PasTotCmp\"]/96.1)*100 + 0.2*(df[\"Tkl\"]/5.88)*100 + 0.2*(df[\"Assists\"]/0.83)*100 + 0.1*(df[\"DriSucc\"]/5.58)*100 \n",
    "\n",
    "\n",
    "\n",
    "\n"
   ]
  },
  {
   "cell_type": "markdown",
   "metadata": {},
   "source": [
    "For the following graphs, we have calculated a weighted score for each position considering facotrs that apply to that specific position.\n",
    "\n",
    "**eg, For attackers I chose: Goals, Shots on target, Goal creating actions. **\n",
    "\n",
    "This helps us to create a better visualisation as some of these factors are more important than others, therefore, adding a weightage to each factor according to their significance provides us with better data. "
   ]
  },
  {
   "cell_type": "code",
   "execution_count": 21,
   "metadata": {},
   "outputs": [
    {
     "data": {
      "text/plain": [
       "[Text(0.5, 1.0, 'Attackers Weighted Score Vs Age')]"
      ]
     },
     "execution_count": 21,
     "metadata": {},
     "output_type": "execute_result"
    },
    {
     "data": {
      "image/png": "[encoded data removed]",
      "text/plain": [
       "<Figure size 842.4x595.44 with 1 Axes>"
      ]
     },
     "metadata": {},
     "output_type": "display_data"
    }
   ],
   "source": [
    "sns.barplot(data = Atk, x = \"Age\", y = \"Weighted_Score\").set(title='Attackers Weighted Score Vs Age')\n",
    "\n"
   ]
  },
  {
   "cell_type": "markdown",
   "metadata": {},
   "source": [
    "From the graph we can see that Attackers tend to peak between the ages 26 and 31, according to online sources such as \"The Athletic\", strikers can start to peek around 22 years old and may continue to peak until 31. Even though, they state that the prime age would be around 27, our results are still within their age range, therefore, confirming our analysis."
   ]
  },
  {
   "cell_type": "code",
   "execution_count": 22,
   "metadata": {},
   "outputs": [
    {
     "data": {
      "text/plain": [
       "[Text(0.5, 1.0, 'Midfielders Weighted Score Vs Age')]"
      ]
     },
     "execution_count": 22,
     "metadata": {},
     "output_type": "execute_result"
    },
    {
     "data": {
      "image/png": "[encoded data removed]",
      "text/plain": [
       "<Figure size 842.4x595.44 with 1 Axes>"
      ]
     },
     "metadata": {},
     "output_type": "display_data"
    }
   ],
   "source": [
    "sns.barplot(data = Mid, x = \"Age\", y = \"Weighted_Score\").set(title='Midfielders Weighted Score Vs Age')\n",
    "\n"
   ]
  },
  {
   "cell_type": "markdown",
   "metadata": {},
   "source": [
    "For this graph, we can see that the graph is fairly steady until it reaches the age 27, where the bars start to increase until 31, where they do fall a little but they still remain high compared to others. Therefore, we can identify that Midfielders peak between the ages 27 and 30. Which again have the same correlation with online source as the Attackers did. Attackers and Midfields do also seem to peak around the same age, which is again verified with general football statistics as they both seem to start peaking around 22 up until 31. "
   ]
  },
  {
   "cell_type": "code",
   "execution_count": 23,
   "metadata": {},
   "outputs": [
    {
     "data": {
      "text/plain": [
       "[Text(0.5, 1.0, 'Defenders Weighted Score Vs Age')]"
      ]
     },
     "execution_count": 23,
     "metadata": {},
     "output_type": "execute_result"
    },
    {
     "data": {
      "image/png": "[encoded data removed]",
      "text/plain": [
       "<Figure size 842.4x595.44 with 1 Axes>"
      ]
     },
     "metadata": {},
     "output_type": "display_data"
    }
   ],
   "source": [
    "sns.barplot(data = Def, x = \"Age\", y = \"Weighted_Score\").set(title='Defenders Weighted Score Vs Age')\n",
    "\n"
   ]
  },
  {
   "cell_type": "markdown",
   "metadata": {},
   "source": [
    "In this graph, we see some confusing results as it starts by peaking and decreases as age increases. This is not what we would expect as younger players don't have much overall experience and are still getting better with each game. I believe we see these results because the weightage of all the factors for defenders are quite close togehter, meaning that the weight being added aren't have much of an impact. Moreover, If I substitute midfielders for defenders in this graph, we see a similar result, this is because, midfielders and defenders have similar play styles which gets reflected. I have expimented with some other factors that I believe may have been better suited to capture defenders in their prime, however, most of them had the same result as shown by the trials below. Therefore, I can conclude that our analysis for defender's is insufficent and require more detailed data."
   ]
  },
  {
   "cell_type": "code",
   "execution_count": 1,
   "metadata": {},
   "outputs": [
    {
     "ename": "NameError",
     "evalue": "name 'new_df' is not defined",
     "output_type": "error",
     "traceback": [
      "\u001b[0;31m---------------------------------------------------------------------------\u001b[0m",
      "\u001b[0;31mNameError\u001b[0m                                 Traceback (most recent call last)",
      "Cell \u001b[0;32mIn [1], line 4\u001b[0m\n\u001b[1;32m      1\u001b[0m xyz \u001b[38;5;241m=\u001b[39m[]\n\u001b[1;32m      3\u001b[0m \u001b[38;5;28;01mfor\u001b[39;00m each \u001b[38;5;129;01min\u001b[39;00m \u001b[38;5;28mrange\u001b[39m(\u001b[38;5;241m22\u001b[39m,\u001b[38;5;241m32\u001b[39m):\n\u001b[0;32m----> 4\u001b[0m     xyz\u001b[38;5;241m.\u001b[39mappend(\u001b[43mnew_df\u001b[49m[new_df[\u001b[38;5;124m\"\u001b[39m\u001b[38;5;124mAge\u001b[39m\u001b[38;5;124m\"\u001b[39m] \u001b[38;5;241m==\u001b[39m each][\u001b[38;5;124m\"\u001b[39m\u001b[38;5;124mDriSucc\u001b[39m\u001b[38;5;124m\"\u001b[39m]\u001b[38;5;241m.\u001b[39mmean())\n\u001b[1;32m      6\u001b[0m colors\u001b[38;5;241m=\u001b[39m[\u001b[38;5;124m'\u001b[39m\u001b[38;5;124m#fae588\u001b[39m\u001b[38;5;124m'\u001b[39m,\u001b[38;5;124m'\u001b[39m\u001b[38;5;124m#f79d65\u001b[39m\u001b[38;5;124m'\u001b[39m,\u001b[38;5;124m'\u001b[39m\u001b[38;5;124m#f9dc5c\u001b[39m\u001b[38;5;124m'\u001b[39m,\u001b[38;5;124m'\u001b[39m\u001b[38;5;124m#e8ac65\u001b[39m\u001b[38;5;124m'\u001b[39m,\u001b[38;5;124m'\u001b[39m\u001b[38;5;124m#e76f51\u001b[39m\u001b[38;5;124m'\u001b[39m,\u001b[38;5;124m'\u001b[39m\u001b[38;5;124m#ef233c\u001b[39m\u001b[38;5;124m'\u001b[39m,\u001b[38;5;124m'\u001b[39m\u001b[38;5;124m#b7094c\u001b[39m\u001b[38;5;124m'\u001b[39m] \u001b[38;5;66;03m#color palette\u001b[39;00m\n\u001b[1;32m      7\u001b[0m sns\u001b[38;5;241m.\u001b[39mset_style(style\u001b[38;5;241m=\u001b[39m\u001b[38;5;124m\"\u001b[39m\u001b[38;5;124mwhitegrid\u001b[39m\u001b[38;5;124m\"\u001b[39m) \u001b[38;5;66;03m# set seaborn plot style\u001b[39;00m\n",
      "\u001b[0;31mNameError\u001b[0m: name 'new_df' is not defined"
     ]
    }
   ],
   "source": [
    "xyz =[]\n",
    "\n",
    "for each in range(22,32):\n",
    "    xyz.append(new_df[new_df[\"Age\"] == each][\"DriSucc\"].mean())\n",
    "\n",
    "colors=['#fae588','#f79d65','#f9dc5c','#e8ac65','#e76f51','#ef233c','#b7094c'] #color palette\n",
    "sns.set_style(style=\"whitegrid\") # set seaborn plot style\n",
    "sizes= df[\"Touches\"].values# proportions of the categories\n",
    "label=range(22,32)\n",
    "squarify.plot(sizes=xyz,label=label ,alpha=0.6,color=colors).set(title='Player touches performed V Age')\n",
    "plt.axis('off')\n",
    "plt.show()\n",
    "\n",
    "plt.savefig('../images/Treemap.png')"
   ]
  },
  {
   "cell_type": "markdown",
   "metadata": {},
   "source": [
    "This graph is a treemap of players' ages where the size of each block/rectangle refers to the Sucessful Dribbles factor (The larger the size, the more dribbles in a certain age group). The grpah indicates that younger players (age : 22 - 24) have significantly more dribbles compared to older players. I believe this is because, dribbling is one of the many ways younger players improve. Dribbling helps them with better touches on the ball, more accurate passes. I think the younger players employ this stratagy due to them not being experienced enough, and therefore, still having the mindset they had on training grounds. "
   ]
  },
  {
   "cell_type": "markdown",
   "metadata": {},
   "source": [
    "## Observations\n",
    "\n",
    "- Attackers and Midfields between the ages 26 and 31 have better stats compared to players outside this range.\n",
    "- According to our graphs, The most prominent age for\n",
    "    - Attackers is indicated between 29-31\n",
    "    - Midfielders is indicated at 29-30\n",
    "    - Defenders is indicated at 23\n",
    "- Younger players (<=24) are still in more of a trainning midset, than a professional football game."
   ]
  },
  {
   "cell_type": "markdown",
   "metadata": {},
   "source": [
    "## Dataset Reliability\n",
    "\n",
    "As I conclude my analysis of the \"2021-2022 Football Player Stats\" dataset with the research question \"Identidy the prime age of playing for this dataset and comparing it to top players in their prime.\", we need to keep in mind that this analysis applies to only this dataset, and we need to consider the reliability of it.\n",
    "\n",
    "Reliablity factors:\n",
    "\n",
    "- Source: Open source public dataset uploaded by a fan\n",
    "- Primary Source : Unknown\n",
    "- Time Uploaded: ~May or June 2022\n",
    "- How data was collected: Unknown\n",
    "- Why was the dataset created: Hobbie/Unknown\n",
    "\n",
    "Considering the factors mentioned above among others, I believe this dataset is a valid representation of Football player statistics from an enthusiast's point of view. Currently, the dataset doesn't contain very detailed data, the primary source and how the data was collected is Unknown, therefore we cannot consider it to be fully reliable data."
   ]
  },
  {
   "cell_type": "markdown",
   "metadata": {},
   "source": [
    "## Conclusion\n",
    "\n",
    "Essentially, the dataset contains some very useful statistics that led to my conclusions, However, as mentioned in the Dataset Reliability section there are an array of details missing about the sources of the data. Therefore, this analysis is completly speculative and require more information about the dataset in order produce a concrete result. \n",
    "\n",
    "From our analysis we are able to pin point certain age ranges for a football player to be in their prime, we considered the different positions players play and what factors may affect them. Using this information, we have come to the conclusion that young players, under the age of 24, haven't been explosed to enough gametime and are still partially in the trainning mindset. Therefore, we can eliminate them as potental players in their primes and continue our analysis. We then used the players' positions and suitable factors to compare them, coming to the conclustion that Attacker's and Midfielder's have similar prime ages of around 26 to 31. We then looked into our visualisation with more detail to find the strict limits for players in their prime using the same factors. As expected we found our ages to be 29-31 for Attackers and 29-30 for Midfielders, which both lie in our soft range. Unfortunately, we couldn't identify the prime age for defenders due to a lack of information regarding older players. We came to this conclusion after comparing then number of older players to younger, where we found that there are twice as many younger players as older with the seperation age being 28. Even though this may be true for all positions, I believe that there may be more anomalies or skewed data within the defenders. Therefore, leading us to this result. Lastly, I decided not to analyse goalkeepers simply due to the lack of relevant factors in the dataset for their position, hence, it logical to estimate their prime age."
   ]
  },
  {
   "cell_type": "code",
   "execution_count": null,
   "metadata": {},
   "outputs": [],
   "source": []
  },
  {
   "cell_type": "code",
   "execution_count": null,
   "metadata": {},
   "outputs": [],
   "source": []
  },
  {
   "cell_type": "code",
   "execution_count": null,
   "metadata": {},
   "outputs": [],
   "source": []
  },
  {
   "cell_type": "code",
   "execution_count": null,
   "metadata": {},
   "outputs": [],
   "source": []
  }
 ],
 "metadata": {
  "kernelspec": {
   "display_name": "Python 3",
   "language": "python",
   "name": "python3"
  },
  "language_info": {
   "codemirror_mode": {
    "name": "ipython",
    "version": 3
   },
   "file_extension": ".py",
   "mimetype": "text/x-python",
   "name": "python",
   "nbconvert_exporter": "python",
   "pygments_lexer": "ipython3",
   "version": "3.9.12"
  }
 },
 "nbformat": 4,
 "nbformat_minor": 4
}
